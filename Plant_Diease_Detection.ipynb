{
  "nbformat": 4,
  "nbformat_minor": 0,
  "metadata": {
    "colab": {
      "name": "Plant_Diease_Detection.ipynb",
      "provenance": [],
      "mount_file_id": "1Y8FHYRvsVsdmDTwJxHwziEKF7rhXKgZv",
      "authorship_tag": "ABX9TyPCdKU75HAatbpBn5S7UWDZ",
      "include_colab_link": true
    },
    "kernelspec": {
      "name": "python3",
      "display_name": "Python 3"
    },
    "language_info": {
      "name": "python"
    },
    "accelerator": "GPU",
    "gpuClass": "standard"
  },
  "cells": [
    {
      "cell_type": "markdown",
      "metadata": {
        "id": "view-in-github",
        "colab_type": "text"
      },
      "source": [
        "<a href=\"https://colab.research.google.com/github/Vasudev-2308/agrobuddy_plant_disease/blob/main/Plant_Diease_Detection.ipynb\" target=\"_parent\"><img src=\"https://colab.research.google.com/assets/colab-badge.svg\" alt=\"Open In Colab\"/></a>"
      ]
    },
    {
      "cell_type": "code",
      "execution_count": 1,
      "metadata": {
        "id": "PoTev_1y5GdP"
      },
      "outputs": [],
      "source": [
        "from google.colab import files"
      ]
    },
    {
      "cell_type": "code",
      "source": [
        "import numpy as np\n",
        "import pandas as pd\n",
        "import os \n",
        "\n",
        "\n",
        "len(os.listdir(\"/content/drive/MyDrive/PlantDisease/Dataset/train\"))"
      ],
      "metadata": {
        "colab": {
          "base_uri": "https://localhost:8080/"
        },
        "id": "OG_5Dm485V1S",
        "outputId": "e2b155de-0b9c-4a12-f46d-c2108b7158cb"
      },
      "execution_count": 2,
      "outputs": [
        {
          "output_type": "execute_result",
          "data": {
            "text/plain": [
              "38"
            ]
          },
          "metadata": {},
          "execution_count": 2
        }
      ]
    },
    {
      "cell_type": "code",
      "source": [
        "import keras \n",
        "\n",
        "from keras.preprocessing.image import ImageDataGenerator, img_to_array, load_img\n",
        "from keras.applications.vgg19 import VGG19, preprocess_input, decode_predictions "
      ],
      "metadata": {
        "id": "Y_l4ns2j5ke5"
      },
      "execution_count": 3,
      "outputs": []
    },
    {
      "cell_type": "code",
      "source": [
        "train_datagen = ImageDataGenerator(zoom_range=0.5, shear_range=0.3, horizontal_flip=True, preprocessing_function=preprocess_input)\n",
        "\n",
        "val_datagen = ImageDataGenerator(preprocessing_function=preprocess_input)"
      ],
      "metadata": {
        "id": "Gm1Zq4_36RZr"
      },
      "execution_count": 4,
      "outputs": []
    },
    {
      "cell_type": "code",
      "source": [
        "train = train_datagen.flow_from_directory(directory=\"/content/drive/MyDrive/PlantDisease/Dataset/train\", target_size=(256,256), batch_size=32)\n",
        "\n",
        "\n",
        "valid = val_datagen.flow_from_directory(\"/content/drive/MyDrive/PlantDisease/Dataset/valid\", target_size=(256,256), batch_size=32)"
      ],
      "metadata": {
        "colab": {
          "base_uri": "https://localhost:8080/"
        },
        "id": "3DS2GqGH6wyu",
        "outputId": "e15b0229-178c-466d-8bc8-841a5335d3b6"
      },
      "execution_count": 5,
      "outputs": [
        {
          "output_type": "stream",
          "name": "stdout",
          "text": [
            "Found 70363 images belonging to 38 classes.\n",
            "Found 17572 images belonging to 38 classes.\n"
          ]
        }
      ]
    },
    {
      "cell_type": "code",
      "source": [
        "from keras.layers import Dense, Flatten\n",
        "from keras.models import Model"
      ],
      "metadata": {
        "id": "IQ-ar9257rOG"
      },
      "execution_count": 6,
      "outputs": []
    },
    {
      "cell_type": "code",
      "source": [
        "#Base Model\n",
        "\n",
        "base_model = VGG19(input_shape=(256,256,3), include_top=False)\n",
        "\n",
        "base_model.summary()\n"
      ],
      "metadata": {
        "colab": {
          "base_uri": "https://localhost:8080/"
        },
        "id": "AiO7517w9F6W",
        "outputId": "602a8adb-0bc1-4bd7-fd8a-6fa08784da30"
      },
      "execution_count": 7,
      "outputs": [
        {
          "output_type": "stream",
          "name": "stdout",
          "text": [
            "Downloading data from https://storage.googleapis.com/tensorflow/keras-applications/vgg19/vgg19_weights_tf_dim_ordering_tf_kernels_notop.h5\n",
            "80142336/80134624 [==============================] - 0s 0us/step\n",
            "80150528/80134624 [==============================] - 0s 0us/step\n",
            "Model: \"vgg19\"\n",
            "_________________________________________________________________\n",
            " Layer (type)                Output Shape              Param #   \n",
            "=================================================================\n",
            " input_1 (InputLayer)        [(None, 256, 256, 3)]     0         \n",
            "                                                                 \n",
            " block1_conv1 (Conv2D)       (None, 256, 256, 64)      1792      \n",
            "                                                                 \n",
            " block1_conv2 (Conv2D)       (None, 256, 256, 64)      36928     \n",
            "                                                                 \n",
            " block1_pool (MaxPooling2D)  (None, 128, 128, 64)      0         \n",
            "                                                                 \n",
            " block2_conv1 (Conv2D)       (None, 128, 128, 128)     73856     \n",
            "                                                                 \n",
            " block2_conv2 (Conv2D)       (None, 128, 128, 128)     147584    \n",
            "                                                                 \n",
            " block2_pool (MaxPooling2D)  (None, 64, 64, 128)       0         \n",
            "                                                                 \n",
            " block3_conv1 (Conv2D)       (None, 64, 64, 256)       295168    \n",
            "                                                                 \n",
            " block3_conv2 (Conv2D)       (None, 64, 64, 256)       590080    \n",
            "                                                                 \n",
            " block3_conv3 (Conv2D)       (None, 64, 64, 256)       590080    \n",
            "                                                                 \n",
            " block3_conv4 (Conv2D)       (None, 64, 64, 256)       590080    \n",
            "                                                                 \n",
            " block3_pool (MaxPooling2D)  (None, 32, 32, 256)       0         \n",
            "                                                                 \n",
            " block4_conv1 (Conv2D)       (None, 32, 32, 512)       1180160   \n",
            "                                                                 \n",
            " block4_conv2 (Conv2D)       (None, 32, 32, 512)       2359808   \n",
            "                                                                 \n",
            " block4_conv3 (Conv2D)       (None, 32, 32, 512)       2359808   \n",
            "                                                                 \n",
            " block4_conv4 (Conv2D)       (None, 32, 32, 512)       2359808   \n",
            "                                                                 \n",
            " block4_pool (MaxPooling2D)  (None, 16, 16, 512)       0         \n",
            "                                                                 \n",
            " block5_conv1 (Conv2D)       (None, 16, 16, 512)       2359808   \n",
            "                                                                 \n",
            " block5_conv2 (Conv2D)       (None, 16, 16, 512)       2359808   \n",
            "                                                                 \n",
            " block5_conv3 (Conv2D)       (None, 16, 16, 512)       2359808   \n",
            "                                                                 \n",
            " block5_conv4 (Conv2D)       (None, 16, 16, 512)       2359808   \n",
            "                                                                 \n",
            " block5_pool (MaxPooling2D)  (None, 8, 8, 512)         0         \n",
            "                                                                 \n",
            "=================================================================\n",
            "Total params: 20,024,384\n",
            "Trainable params: 20,024,384\n",
            "Non-trainable params: 0\n",
            "_________________________________________________________________\n"
          ]
        }
      ]
    },
    {
      "cell_type": "code",
      "source": [
        "for layer in base_model.layers:\n",
        "  layer.trainable = False"
      ],
      "metadata": {
        "id": "I1l73jTN9U26"
      },
      "execution_count": 8,
      "outputs": []
    },
    {
      "cell_type": "code",
      "source": [
        "x = Flatten()(base_model.output)\n",
        "\n",
        "x = Dense(units=38, activation='softmax')(x)\n",
        "\n",
        "model = Model(base_model.input, x)\n",
        "\n",
        "model.summary()"
      ],
      "metadata": {
        "colab": {
          "base_uri": "https://localhost:8080/"
        },
        "id": "NysH8WZX9nur",
        "outputId": "b91b4302-dd59-4780-dae7-5d20409caa5a"
      },
      "execution_count": 9,
      "outputs": [
        {
          "output_type": "stream",
          "name": "stdout",
          "text": [
            "Model: \"model\"\n",
            "_________________________________________________________________\n",
            " Layer (type)                Output Shape              Param #   \n",
            "=================================================================\n",
            " input_1 (InputLayer)        [(None, 256, 256, 3)]     0         \n",
            "                                                                 \n",
            " block1_conv1 (Conv2D)       (None, 256, 256, 64)      1792      \n",
            "                                                                 \n",
            " block1_conv2 (Conv2D)       (None, 256, 256, 64)      36928     \n",
            "                                                                 \n",
            " block1_pool (MaxPooling2D)  (None, 128, 128, 64)      0         \n",
            "                                                                 \n",
            " block2_conv1 (Conv2D)       (None, 128, 128, 128)     73856     \n",
            "                                                                 \n",
            " block2_conv2 (Conv2D)       (None, 128, 128, 128)     147584    \n",
            "                                                                 \n",
            " block2_pool (MaxPooling2D)  (None, 64, 64, 128)       0         \n",
            "                                                                 \n",
            " block3_conv1 (Conv2D)       (None, 64, 64, 256)       295168    \n",
            "                                                                 \n",
            " block3_conv2 (Conv2D)       (None, 64, 64, 256)       590080    \n",
            "                                                                 \n",
            " block3_conv3 (Conv2D)       (None, 64, 64, 256)       590080    \n",
            "                                                                 \n",
            " block3_conv4 (Conv2D)       (None, 64, 64, 256)       590080    \n",
            "                                                                 \n",
            " block3_pool (MaxPooling2D)  (None, 32, 32, 256)       0         \n",
            "                                                                 \n",
            " block4_conv1 (Conv2D)       (None, 32, 32, 512)       1180160   \n",
            "                                                                 \n",
            " block4_conv2 (Conv2D)       (None, 32, 32, 512)       2359808   \n",
            "                                                                 \n",
            " block4_conv3 (Conv2D)       (None, 32, 32, 512)       2359808   \n",
            "                                                                 \n",
            " block4_conv4 (Conv2D)       (None, 32, 32, 512)       2359808   \n",
            "                                                                 \n",
            " block4_pool (MaxPooling2D)  (None, 16, 16, 512)       0         \n",
            "                                                                 \n",
            " block5_conv1 (Conv2D)       (None, 16, 16, 512)       2359808   \n",
            "                                                                 \n",
            " block5_conv2 (Conv2D)       (None, 16, 16, 512)       2359808   \n",
            "                                                                 \n",
            " block5_conv3 (Conv2D)       (None, 16, 16, 512)       2359808   \n",
            "                                                                 \n",
            " block5_conv4 (Conv2D)       (None, 16, 16, 512)       2359808   \n",
            "                                                                 \n",
            " block5_pool (MaxPooling2D)  (None, 8, 8, 512)         0         \n",
            "                                                                 \n",
            " flatten (Flatten)           (None, 32768)             0         \n",
            "                                                                 \n",
            " dense (Dense)               (None, 38)                1245222   \n",
            "                                                                 \n",
            "=================================================================\n",
            "Total params: 21,269,606\n",
            "Trainable params: 1,245,222\n",
            "Non-trainable params: 20,024,384\n",
            "_________________________________________________________________\n"
          ]
        }
      ]
    },
    {
      "cell_type": "code",
      "source": [
        "# Early Stopping and Callbacks \n",
        "\n",
        "\n",
        "from keras.callbacks import ModelCheckpoint, EarlyStopping\n",
        "\n",
        "earlyStopping = EarlyStopping(monitor='val_loss', min_delta=0.01,patience=3, verbose=1)\n",
        "\n",
        "#model Checkpoint \n",
        "\n",
        "modelCheckpoint = ModelCheckpoint(\"model_best.h5\", save_best_only=True,monitor='val_accuracy', verbose=1)\n",
        "\n",
        "\n",
        "callback = [earlyStopping, modelCheckpoint]\n",
        "\n"
      ],
      "metadata": {
        "id": "WxSDvUYs-Rz9"
      },
      "execution_count": 10,
      "outputs": []
    },
    {
      "cell_type": "code",
      "source": [
        "model.compile(optimizer='adam', loss=keras.losses.categorical_crossentropy, metrics=['accuracy'])\n",
        "history = model.fit_generator(\n",
        "    train, \n",
        "    steps_per_epoch=15, \n",
        "    epochs=50, \n",
        "    callbacks=callback, \n",
        "    validation_data=valid, verbose=1, validation_steps=15)"
      ],
      "metadata": {
        "colab": {
          "base_uri": "https://localhost:8080/"
        },
        "id": "WmjKbAf5_5Ys",
        "outputId": "7f1a506e-7a9d-4919-bae8-6a6fb90e3c54"
      },
      "execution_count": 11,
      "outputs": [
        {
          "output_type": "stream",
          "name": "stderr",
          "text": [
            "/usr/local/lib/python3.7/dist-packages/ipykernel_launcher.py:7: UserWarning: `Model.fit_generator` is deprecated and will be removed in a future version. Please use `Model.fit`, which supports generators.\n",
            "  import sys\n"
          ]
        },
        {
          "output_type": "stream",
          "name": "stdout",
          "text": [
            "Epoch 1/50\n",
            "15/15 [==============================] - ETA: 0s - loss: 29.9476 - accuracy: 0.1583\n",
            "Epoch 1: val_accuracy improved from -inf to 0.32292, saving model to model_best.h5\n",
            "15/15 [==============================] - 206s 13s/step - loss: 29.9476 - accuracy: 0.1583 - val_loss: 17.9440 - val_accuracy: 0.3229\n",
            "Epoch 2/50\n",
            "15/15 [==============================] - ETA: 0s - loss: 17.3404 - accuracy: 0.3833\n",
            "Epoch 2: val_accuracy improved from 0.32292 to 0.56875, saving model to model_best.h5\n",
            "15/15 [==============================] - 201s 14s/step - loss: 17.3404 - accuracy: 0.3833 - val_loss: 11.5921 - val_accuracy: 0.5688\n",
            "Epoch 3/50\n",
            "15/15 [==============================] - ETA: 0s - loss: 12.9917 - accuracy: 0.4750\n",
            "Epoch 3: val_accuracy improved from 0.56875 to 0.63125, saving model to model_best.h5\n",
            "15/15 [==============================] - 203s 14s/step - loss: 12.9917 - accuracy: 0.4750 - val_loss: 10.5613 - val_accuracy: 0.6313\n",
            "Epoch 4/50\n",
            "15/15 [==============================] - ETA: 0s - loss: 12.1467 - accuracy: 0.5562\n",
            "Epoch 4: val_accuracy improved from 0.63125 to 0.68542, saving model to model_best.h5\n",
            "15/15 [==============================] - 202s 14s/step - loss: 12.1467 - accuracy: 0.5562 - val_loss: 8.5330 - val_accuracy: 0.6854\n",
            "Epoch 5/50\n",
            "15/15 [==============================] - ETA: 0s - loss: 9.8805 - accuracy: 0.6250 \n",
            "Epoch 5: val_accuracy improved from 0.68542 to 0.69792, saving model to model_best.h5\n",
            "15/15 [==============================] - 205s 14s/step - loss: 9.8805 - accuracy: 0.6250 - val_loss: 7.1781 - val_accuracy: 0.6979\n",
            "Epoch 6/50\n",
            "15/15 [==============================] - ETA: 0s - loss: 9.9158 - accuracy: 0.6250\n",
            "Epoch 6: val_accuracy improved from 0.69792 to 0.71458, saving model to model_best.h5\n",
            "15/15 [==============================] - 208s 14s/step - loss: 9.9158 - accuracy: 0.6250 - val_loss: 7.0469 - val_accuracy: 0.7146\n",
            "Epoch 7/50\n",
            "15/15 [==============================] - ETA: 0s - loss: 8.6922 - accuracy: 0.6687\n",
            "Epoch 7: val_accuracy improved from 0.71458 to 0.75833, saving model to model_best.h5\n",
            "15/15 [==============================] - 202s 14s/step - loss: 8.6922 - accuracy: 0.6687 - val_loss: 5.7020 - val_accuracy: 0.7583\n",
            "Epoch 8/50\n",
            "15/15 [==============================] - ETA: 0s - loss: 8.1319 - accuracy: 0.6771\n",
            "Epoch 8: val_accuracy did not improve from 0.75833\n",
            "15/15 [==============================] - 202s 14s/step - loss: 8.1319 - accuracy: 0.6771 - val_loss: 10.1646 - val_accuracy: 0.6833\n",
            "Epoch 9/50\n",
            "15/15 [==============================] - ETA: 0s - loss: 8.3720 - accuracy: 0.6812\n",
            "Epoch 9: val_accuracy improved from 0.75833 to 0.76250, saving model to model_best.h5\n",
            "15/15 [==============================] - 200s 14s/step - loss: 8.3720 - accuracy: 0.6812 - val_loss: 7.3381 - val_accuracy: 0.7625\n",
            "Epoch 10/50\n",
            "15/15 [==============================] - ETA: 0s - loss: 8.7342 - accuracy: 0.7000\n",
            "Epoch 10: val_accuracy did not improve from 0.76250\n",
            "15/15 [==============================] - 190s 13s/step - loss: 8.7342 - accuracy: 0.7000 - val_loss: 6.4082 - val_accuracy: 0.7521\n",
            "Epoch 10: early stopping\n"
          ]
        }
      ]
    },
    {
      "cell_type": "code",
      "source": [
        "import matplotlib.pyplot as plt\n",
        "\n",
        "h = history.history\n",
        "\n",
        "plt.plot(h['accuracy'])\n",
        "plt.plot(h['val_accuracy'], c='red')\n",
        "plt.title('acc vs val_acc')\n",
        "\n",
        "plt.show()"
      ],
      "metadata": {
        "id": "bKMpvJHYA7ie",
        "colab": {
          "base_uri": "https://localhost:8080/",
          "height": 281
        },
        "outputId": "666d9b7e-2b35-4cf9-ecd7-d2408c172f29"
      },
      "execution_count": 12,
      "outputs": [
        {
          "output_type": "display_data",
          "data": {
            "text/plain": [
              "<Figure size 432x288 with 1 Axes>"
            ],
            "image/png": "[encoded data removed]"
          },
          "metadata": {
            "needs_background": "light"
          }
        }
      ]
    },
    {
      "cell_type": "code",
      "source": [
        "plt.plot(h['loss'])\n",
        "plt.plot(h['val_loss'], c='red')\n",
        "plt.title('loss vs val_loss')\n",
        "\n",
        "plt.show()"
      ],
      "metadata": {
        "id": "8FeHGfa4L8qw",
        "colab": {
          "base_uri": "https://localhost:8080/",
          "height": 281
        },
        "outputId": "09f498d8-e314-48e6-a2b7-1660274bca5e"
      },
      "execution_count": 13,
      "outputs": [
        {
          "output_type": "display_data",
          "data": {
            "text/plain": [
              "<Figure size 432x288 with 1 Axes>"
            ],
            "image/png": "[encoded data removed]"
          },
          "metadata": {
            "needs_background": "light"
          }
        }
      ]
    },
    {
      "cell_type": "code",
      "source": [
        "#load best model \n",
        "\n",
        "from keras.models import load_model\n",
        "\n",
        "trained_model = load_model(\"/content/model_best.h5\")\n"
      ],
      "metadata": {
        "id": "BhjTn3oRMJGp"
      },
      "execution_count": 14,
      "outputs": []
    },
    {
      "cell_type": "code",
      "source": [
        ""
      ],
      "metadata": {
        "id": "G9llu_9fMfNM"
      },
      "execution_count": 14,
      "outputs": []
    },
    {
      "cell_type": "code",
      "source": [
        "disease_ref = dict(zip(list(train.class_indices.values()), list(train.class_indices.keys())))"
      ],
      "metadata": {
        "id": "sFPPL3EgOo5b"
      },
      "execution_count": 15,
      "outputs": []
    },
    {
      "cell_type": "code",
      "source": [
        "def prediction(path):\n",
        "  img = load_img(path, target_size=(256,256))\n",
        "  i = img_to_array(img)\n",
        "  im = preprocess_input(i)\n",
        "  img = np.expand_dims(im, axis=0)\n",
        "\n",
        "  pred = np.argmax(trained_model.predict(img))\n",
        "\n",
        "  return (pred)"
      ],
      "metadata": {
        "id": "n4uyBi9XMqjQ"
      },
      "execution_count": 16,
      "outputs": []
    },
    {
      "cell_type": "code",
      "source": [
        "disease_index = prediction(\"/content/drive/MyDrive/PlantDisease/test/test/AppleScab2.JPG\")\n",
        "\n",
        "print(disease_ref[disease_index])"
      ],
      "metadata": {
        "id": "VthnqN0BOHnp",
        "colab": {
          "base_uri": "https://localhost:8080/"
        },
        "outputId": "56afcb8f-7913-4b98-d84e-0b678e540659"
      },
      "execution_count": 17,
      "outputs": [
        {
          "output_type": "stream",
          "name": "stdout",
          "text": [
            "Apple___Apple_scab\n"
          ]
        }
      ]
    },
    {
      "cell_type": "code",
      "source": [
        "import pickle\n"
      ],
      "metadata": {
        "id": "jznmEAbNOQi7"
      },
      "execution_count": 18,
      "outputs": []
    },
    {
      "cell_type": "code",
      "source": [
        "with open('plant_disease_detection_model.pkl', 'wb') as file_:\n",
        "    pickle.dump(trained_model, file_)"
      ],
      "metadata": {
        "id": "xTaZHXWpoib8",
        "colab": {
          "base_uri": "https://localhost:8080/"
        },
        "outputId": "7aa6172a-9c30-46c5-95f1-fe931f4656cc"
      },
      "execution_count": 19,
      "outputs": [
        {
          "output_type": "stream",
          "name": "stdout",
          "text": [
            "INFO:tensorflow:Assets written to: ram://a8beee26-a683-41eb-abb4-accd50cca7a7/assets\n"
          ]
        }
      ]
    },
    {
      "cell_type": "code",
      "source": [
        ""
      ],
      "metadata": {
        "id": "S-zP4AzopFYt"
      },
      "execution_count": 19,
      "outputs": []
    }
  ]
}